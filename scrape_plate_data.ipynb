{
 "cells": [
  {
   "cell_type": "code",
   "execution_count": 1,
   "metadata": {},
   "outputs": [],
   "source": [
    "import json\n",
    "import pandas as pd\n",
    "import boto3\n",
    "from decimal import Decimal\n",
    "import requests\n",
    "from bs4 import BeautifulSoup\n",
    "import time\n",
    "import datetime\n",
    "from dateutil import parser\n",
    "\n",
    "dynamodb = boto3.resource('dynamodb', region_name='us-east-2')"
   ]
  },
  {
   "cell_type": "code",
   "execution_count": 2,
   "metadata": {},
   "outputs": [],
   "source": [
    "\n",
    "def pullDynamo():\n",
    "    #pull existing data from Dynamodb\n",
    "    table = dynamodb.Table('usedPlates')\n",
    "    response = table.scan()\n",
    "    df = pd.DataFrame(response['Items'])\n",
    "    return df, df.count()[0]\n"
   ]
  },
  {
   "cell_type": "code",
   "execution_count": 11,
   "metadata": {},
   "outputs": [],
   "source": [
    "def pullDynamo():\n",
    "    #pull existing data from Dynamodb\n",
    "    table = dynamodb.Table('usedPlates')\n",
    "    response = table.scan()\n",
    "    df = pd.DataFrame(response['Items'])\n",
    "    return df, df.count()[0]\n",
    "\n",
    "#just to count to see how many listing we're expecting\n",
    "\n",
    "def pullData():\n",
    "    # just for initial dynamo run\n",
    "    existingListingsN = 0\n",
    "    # pull old data\n",
    "    newListingsN = 0\n",
    "    #add something to make use of this, change in N due to process\n",
    "    #dict to hold the data in\n",
    "    adict = {\"Item Title\":[], \"Item Price\":[], \"Listings Collected Number\":[], \"Sold Date\":[]}\n",
    "    #ebay page url, for loop adds page number\n",
    "    ebayUrl = \"https://www.ebay.co.uk/sch/i.html?_from=R40&_nkw=20kg+weight+plates&_in_kw=1&_ex_kw=&_sacat=0&LH_Sold=1&_udlo=&_udhi=&_samilow=&_samihi=&_sadis=15&_sargn=-1%26saslc%3D1&_fsradio2=%26LH_LocatedIn%3D1&_salic=3&LH_SubLocation=1&_sop=13&_dmd=1&_ipg=60&LH_Complete=&_pgn=\"\n",
    "    \n",
    "    #don't think i need to catch a failed url, as failed url means we've run out of pages\n",
    "\n",
    "        #range can change to 1 or 2 when automatically pull\n",
    "    for n in range(1, 5):\n",
    "        pageUrl = ebayUrl+str(n)\n",
    "        r= requests.get(pageUrl)\n",
    "        data=r.text\n",
    "        soup=BeautifulSoup(data, 'html.parser')\n",
    "        listings = soup.find_all(class_=\"s-item s-item__pl-on-bottom\")\n",
    "\n",
    "        for each in listings:\n",
    "            each_title_span = each.find(class_='s-item__title')\n",
    "            each_title = each_title_span.next_element.next_element\n",
    "            # following checks if for each listing, if that listing is already in the database\n",
    "            #would be good to get a better way of seeing if each item has already been collected, this seems hacky\n",
    "            #assumes newer listings are at the start of the for loop\n",
    "            # matching the listing name doesn't work due to package(repeat) sellers, collect purchase id?\n",
    "            #although presumably not the same issue with used barbells\n",
    "\n",
    "            #change to if current listing is not equal to top of previous dataframe\n",
    "\n",
    "            each_price_span = each.find(class_='s-item__price')\n",
    "            each_price = each_price_span.next_element.next_element\n",
    "\n",
    "            each_date_span = each.find(class_='s-item__title--tagblock')\n",
    "            try:\n",
    "                each_date = parser.parse(each_date_span.next_element.next_element[5:]).isoformat()\n",
    "            except:\n",
    "                # sometimes returns a None object\n",
    "                pass\n",
    "\n",
    "            #specifying the £ sound to be the first character in item price ensures the html not accidentally picked up there.\n",
    "            # and we don't want to remove a price without removing the item, so best to exclude the item before it's added to our lists.\n",
    "            if str(each_price)[:1] == \"£\":\n",
    "                existingListingsN +=1\n",
    "                newListingsN += 1\n",
    "                adict['Item Title'].append(each_title)\n",
    "                adict['Item Price'].append(each_price)\n",
    "                adict['Listings Collected Number'].append(float(existingListingsN))\n",
    "                adict['Sold Date'].append(each_date)\n",
    "            else:\n",
    "                #not sure why I don't get data after some point on the 4th page tried re-writing, oh well\n",
    "                pass\n",
    "    \n",
    "    df = pd.DataFrame(adict)\n",
    "    if df.count()[0] > 0:\n",
    "        # returns df of new data to be added\n",
    "        print(\"expecting \"+str(newListingsN)+\" new listings to be added\")\n",
    "        return newListingsN, df\n",
    "    else:\n",
    "    # df should only list whatever it collected, ie whatever wasn't already in the csv\n",
    "        newListingsN = 0\n",
    "        return newListingsN\n",
    "\n",
    "    \n",
    "def dynamoDump():\n",
    "    #already called dynamo?\n",
    "    #dynamodb = boto3.resource('dynamodb')\n",
    "    pullDataOutput = pullData()\n",
    "    if type(pullDataOutput) == tuple:\n",
    "        newDF = pullDataOutput[1]\n",
    "        table = dynamodb.Table('usedPlates')\n",
    "        #would be better to declare this variable beforehand\n",
    "        # if newDF == None not working, so will try \n",
    "        if isinstance(newDF, pd.DataFrame):\n",
    "            #if newDF == None:\n",
    "            #    \n",
    "            #else:\n",
    "            if sum(newDF['Listings Collected Number']) > 0:\n",
    "                n2 = 0\n",
    "                print(\"working through here\")\n",
    "                print(newDF)\n",
    "                with table.batch_writer() as batch:\n",
    "                    for index, row in newDF.iterrows():\n",
    "                        n2 += 1\n",
    "                        batch.put_item(json.loads(row.to_json(), parse_float=Decimal))\n",
    "                    print(\"added \"+str(n2) + \" listing\")\n",
    "            else:\n",
    "                print(\"didn't get very far\")\n",
    "        else:\n",
    "            print(\"not even close\")"
   ]
  },
  {
   "cell_type": "code",
   "execution_count": 12,
   "metadata": {},
   "outputs": [
    {
     "name": "stdout",
     "output_type": "stream",
     "text": [
      "expecting 236 new listings to be added\n",
      "working through here\n",
      "                                            Item Title Item Price  \\\n",
      "0                                        [New listing]     £10.00   \n",
      "1                                        [New listing]     £35.00   \n",
      "2    2 x 10kg cast iron weight plates - 1\" Hole dia...     £25.00   \n",
      "3    Adjustable Dumbbells 20Kg 30Kg 50Kg Cast Iron ...     £25.99   \n",
      "4    Iron Weight Plates Set 5KG 10KG 20KG 1\" barbel...     £11.99   \n",
      "..                                                 ...        ...   \n",
      "231  150KG 2\" Olympic Bumper Weight Plate Set - 5kg...    £270.00   \n",
      "232  5kg x4 Opti Cast Iron Weights Plates 1\" Inch H...     £27.50   \n",
      "233  Jordan fitness 20kg weight lifting plates gym ...     £40.00   \n",
      "234  Escape Commercial Tri Grip Olympic Urethane Tr...     £25.00   \n",
      "235  JLL® Cast Iron Weight Plates, 0.5kg to 20kg pa...     £11.99   \n",
      "\n",
      "     Listings Collected Number            Sold Date  \n",
      "0                          1.0  2022-11-27T00:00:00  \n",
      "1                          2.0  2022-11-27T00:00:00  \n",
      "2                          3.0  2022-11-27T00:00:00  \n",
      "3                          4.0  2022-11-27T00:00:00  \n",
      "4                          5.0  2022-11-27T00:00:00  \n",
      "..                         ...                  ...  \n",
      "231                      232.0  2022-10-30T00:00:00  \n",
      "232                      233.0  2022-10-30T00:00:00  \n",
      "233                      234.0  2022-10-30T00:00:00  \n",
      "234                      235.0  2022-10-30T00:00:00  \n",
      "235                      236.0  2022-10-30T00:00:00  \n",
      "\n",
      "[236 rows x 4 columns]\n"
     ]
    },
    {
     "ename": "ClientError",
     "evalue": "An error occurred (ValidationException) when calling the BatchWriteItem operation: The provided key element does not match the schema",
     "output_type": "error",
     "traceback": [
      "\u001b[0;31m---------------------------------------------------------------------------\u001b[0m",
      "\u001b[0;31mClientError\u001b[0m                               Traceback (most recent call last)",
      "Cell \u001b[0;32mIn [12], line 1\u001b[0m\n\u001b[0;32m----> 1\u001b[0m dynamoDump()\n",
      "Cell \u001b[0;32mIn [11], line 96\u001b[0m, in \u001b[0;36mdynamoDump\u001b[0;34m()\u001b[0m\n\u001b[1;32m     94\u001b[0m         \u001b[39mfor\u001b[39;00m index, row \u001b[39min\u001b[39;00m newDF\u001b[39m.\u001b[39miterrows():\n\u001b[1;32m     95\u001b[0m             n2 \u001b[39m+\u001b[39m\u001b[39m=\u001b[39m \u001b[39m1\u001b[39m\n\u001b[0;32m---> 96\u001b[0m             batch\u001b[39m.\u001b[39;49mput_item(json\u001b[39m.\u001b[39;49mloads(row\u001b[39m.\u001b[39;49mto_json(), parse_float\u001b[39m=\u001b[39;49mDecimal))\n\u001b[1;32m     97\u001b[0m         \u001b[39mprint\u001b[39m(\u001b[39m\"\u001b[39m\u001b[39madded \u001b[39m\u001b[39m\"\u001b[39m\u001b[39m+\u001b[39m\u001b[39mstr\u001b[39m(n2) \u001b[39m+\u001b[39m \u001b[39m\"\u001b[39m\u001b[39m listing\u001b[39m\u001b[39m\"\u001b[39m)\n\u001b[1;32m     98\u001b[0m \u001b[39melse\u001b[39;00m:\n",
      "File \u001b[0;32m/opt/homebrew/lib/python3.9/site-packages/boto3/dynamodb/table.py:103\u001b[0m, in \u001b[0;36mBatchWriter.put_item\u001b[0;34m(self, Item)\u001b[0m\n\u001b[1;32m    102\u001b[0m \u001b[39mdef\u001b[39;00m \u001b[39mput_item\u001b[39m(\u001b[39mself\u001b[39m, Item):\n\u001b[0;32m--> 103\u001b[0m     \u001b[39mself\u001b[39;49m\u001b[39m.\u001b[39;49m_add_request_and_process({\u001b[39m'\u001b[39;49m\u001b[39mPutRequest\u001b[39;49m\u001b[39m'\u001b[39;49m: {\u001b[39m'\u001b[39;49m\u001b[39mItem\u001b[39;49m\u001b[39m'\u001b[39;49m: Item}})\n",
      "File \u001b[0;32m/opt/homebrew/lib/python3.9/site-packages/boto3/dynamodb/table.py:112\u001b[0m, in \u001b[0;36mBatchWriter._add_request_and_process\u001b[0;34m(self, request)\u001b[0m\n\u001b[1;32m    110\u001b[0m     \u001b[39mself\u001b[39m\u001b[39m.\u001b[39m_remove_dup_pkeys_request_if_any(request)\n\u001b[1;32m    111\u001b[0m \u001b[39mself\u001b[39m\u001b[39m.\u001b[39m_items_buffer\u001b[39m.\u001b[39mappend(request)\n\u001b[0;32m--> 112\u001b[0m \u001b[39mself\u001b[39;49m\u001b[39m.\u001b[39;49m_flush_if_needed()\n",
      "File \u001b[0;32m/opt/homebrew/lib/python3.9/site-packages/boto3/dynamodb/table.py:139\u001b[0m, in \u001b[0;36mBatchWriter._flush_if_needed\u001b[0;34m(self)\u001b[0m\n\u001b[1;32m    137\u001b[0m \u001b[39mdef\u001b[39;00m \u001b[39m_flush_if_needed\u001b[39m(\u001b[39mself\u001b[39m):\n\u001b[1;32m    138\u001b[0m     \u001b[39mif\u001b[39;00m \u001b[39mlen\u001b[39m(\u001b[39mself\u001b[39m\u001b[39m.\u001b[39m_items_buffer) \u001b[39m>\u001b[39m\u001b[39m=\u001b[39m \u001b[39mself\u001b[39m\u001b[39m.\u001b[39m_flush_amount:\n\u001b[0;32m--> 139\u001b[0m         \u001b[39mself\u001b[39;49m\u001b[39m.\u001b[39;49m_flush()\n",
      "File \u001b[0;32m/opt/homebrew/lib/python3.9/site-packages/boto3/dynamodb/table.py:144\u001b[0m, in \u001b[0;36mBatchWriter._flush\u001b[0;34m(self)\u001b[0m\n\u001b[1;32m    142\u001b[0m items_to_send \u001b[39m=\u001b[39m \u001b[39mself\u001b[39m\u001b[39m.\u001b[39m_items_buffer[: \u001b[39mself\u001b[39m\u001b[39m.\u001b[39m_flush_amount]\n\u001b[1;32m    143\u001b[0m \u001b[39mself\u001b[39m\u001b[39m.\u001b[39m_items_buffer \u001b[39m=\u001b[39m \u001b[39mself\u001b[39m\u001b[39m.\u001b[39m_items_buffer[\u001b[39mself\u001b[39m\u001b[39m.\u001b[39m_flush_amount :]\n\u001b[0;32m--> 144\u001b[0m response \u001b[39m=\u001b[39m \u001b[39mself\u001b[39;49m\u001b[39m.\u001b[39;49m_client\u001b[39m.\u001b[39;49mbatch_write_item(\n\u001b[1;32m    145\u001b[0m     RequestItems\u001b[39m=\u001b[39;49m{\u001b[39mself\u001b[39;49m\u001b[39m.\u001b[39;49m_table_name: items_to_send}\n\u001b[1;32m    146\u001b[0m )\n\u001b[1;32m    147\u001b[0m unprocessed_items \u001b[39m=\u001b[39m response[\u001b[39m'\u001b[39m\u001b[39mUnprocessedItems\u001b[39m\u001b[39m'\u001b[39m]\n\u001b[1;32m    149\u001b[0m \u001b[39mif\u001b[39;00m unprocessed_items \u001b[39mand\u001b[39;00m unprocessed_items[\u001b[39mself\u001b[39m\u001b[39m.\u001b[39m_table_name]:\n\u001b[1;32m    150\u001b[0m     \u001b[39m# Any unprocessed_items are immediately added to the\u001b[39;00m\n\u001b[1;32m    151\u001b[0m     \u001b[39m# next batch we send.\u001b[39;00m\n",
      "File \u001b[0;32m/opt/homebrew/lib/python3.9/site-packages/botocore/client.py:395\u001b[0m, in \u001b[0;36mClientCreator._create_api_method.<locals>._api_call\u001b[0;34m(self, *args, **kwargs)\u001b[0m\n\u001b[1;32m    392\u001b[0m     \u001b[39mraise\u001b[39;00m \u001b[39mTypeError\u001b[39;00m(\n\u001b[1;32m    393\u001b[0m         \u001b[39m\"\u001b[39m\u001b[39m%s\u001b[39;00m\u001b[39m() only accepts keyword arguments.\u001b[39m\u001b[39m\"\u001b[39m \u001b[39m%\u001b[39m py_operation_name)\n\u001b[1;32m    394\u001b[0m \u001b[39m# The \"self\" in this scope is referring to the BaseClient.\u001b[39;00m\n\u001b[0;32m--> 395\u001b[0m \u001b[39mreturn\u001b[39;00m \u001b[39mself\u001b[39;49m\u001b[39m.\u001b[39;49m_make_api_call(operation_name, kwargs)\n",
      "File \u001b[0;32m/opt/homebrew/lib/python3.9/site-packages/botocore/client.py:725\u001b[0m, in \u001b[0;36mBaseClient._make_api_call\u001b[0;34m(self, operation_name, api_params)\u001b[0m\n\u001b[1;32m    723\u001b[0m     error_code \u001b[39m=\u001b[39m parsed_response\u001b[39m.\u001b[39mget(\u001b[39m\"\u001b[39m\u001b[39mError\u001b[39m\u001b[39m\"\u001b[39m, {})\u001b[39m.\u001b[39mget(\u001b[39m\"\u001b[39m\u001b[39mCode\u001b[39m\u001b[39m\"\u001b[39m)\n\u001b[1;32m    724\u001b[0m     error_class \u001b[39m=\u001b[39m \u001b[39mself\u001b[39m\u001b[39m.\u001b[39mexceptions\u001b[39m.\u001b[39mfrom_code(error_code)\n\u001b[0;32m--> 725\u001b[0m     \u001b[39mraise\u001b[39;00m error_class(parsed_response, operation_name)\n\u001b[1;32m    726\u001b[0m \u001b[39melse\u001b[39;00m:\n\u001b[1;32m    727\u001b[0m     \u001b[39mreturn\u001b[39;00m parsed_response\n",
      "\u001b[0;31mClientError\u001b[0m: An error occurred (ValidationException) when calling the BatchWriteItem operation: The provided key element does not match the schema"
     ]
    }
   ],
   "source": [
    "dynamoDump()"
   ]
  },
  {
   "cell_type": "code",
   "execution_count": 5,
   "metadata": {},
   "outputs": [
    {
     "ename": "NameError",
     "evalue": "name 'newDF' is not defined",
     "output_type": "error",
     "traceback": [
      "\u001b[0;31m---------------------------------------------------------------------------\u001b[0m",
      "\u001b[0;31mNameError\u001b[0m                                 Traceback (most recent call last)",
      "Cell \u001b[0;32mIn [5], line 1\u001b[0m\n\u001b[0;32m----> 1\u001b[0m newDF\n",
      "\u001b[0;31mNameError\u001b[0m: name 'newDF' is not defined"
     ]
    }
   ],
   "source": [
    "\n",
    "#ClientError: An error occurred (ValidationException) when calling the BatchWriteItem operation: The provided key element does not match the schema"
   ]
  },
  {
   "cell_type": "code",
   "execution_count": 6,
   "metadata": {},
   "outputs": [],
   "source": [
    "table = dynamodb.Table('usedPlates')"
   ]
  },
  {
   "cell_type": "code",
   "execution_count": 8,
   "metadata": {},
   "outputs": [
    {
     "data": {
      "text/plain": [
       "2.0"
      ]
     },
     "execution_count": 8,
     "metadata": {},
     "output_type": "execute_result"
    }
   ],
   "source": [
    "float(2)"
   ]
  },
  {
   "cell_type": "code",
   "execution_count": 13,
   "metadata": {},
   "outputs": [
    {
     "data": {
      "text/plain": [
       "1669585871.766944"
      ]
     },
     "execution_count": 13,
     "metadata": {},
     "output_type": "execute_result"
    }
   ],
   "source": [
    "time.time()"
   ]
  },
  {
   "cell_type": "code",
   "execution_count": null,
   "metadata": {},
   "outputs": [],
   "source": []
  }
 ],
 "metadata": {
  "kernelspec": {
   "display_name": "Python 3.9.10 64-bit",
   "language": "python",
   "name": "python3"
  },
  "language_info": {
   "codemirror_mode": {
    "name": "ipython",
    "version": 3
   },
   "file_extension": ".py",
   "mimetype": "text/x-python",
   "name": "python",
   "nbconvert_exporter": "python",
   "pygments_lexer": "ipython3",
   "version": "3.9.10"
  },
  "orig_nbformat": 4,
  "vscode": {
   "interpreter": {
    "hash": "b0fa6594d8f4cbf19f97940f81e996739fb7646882a419484c72d19e05852a7e"
   }
  }
 },
 "nbformat": 4,
 "nbformat_minor": 2
}
