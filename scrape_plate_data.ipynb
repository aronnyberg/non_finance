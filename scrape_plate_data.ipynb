{
 "cells": [
  {
   "cell_type": "code",
   "execution_count": 2,
   "metadata": {},
   "outputs": [],
   "source": [
    "import requests\n",
    "from bs4 import BeautifulSoup\n",
    "import pandas as pd"
   ]
  },
  {
   "cell_type": "code",
   "execution_count": 2,
   "metadata": {},
   "outputs": [],
   "source": [
    "adict = {\"Item Title\":[], \"Item Price\":[]}\n",
    "#ebay page url, for loop adds page number\n",
    "ebayUrl = \"https://www.ebay.co.uk/sch/i.html?_from=R40&_nkw=20kg+weight+plates&_in_kw=1&_ex_kw=&_sacat=0&LH_Sold=1&_udlo=&_udhi=&_samilow=&_samihi=&_sadis=15&_sargn=-1%26saslc%3D1&_fsradio2=%26LH_LocatedIn%3D1&_salic=3&LH_SubLocation=1&_sop=13&_dmd=1&_ipg=60&LH_Complete=&_pgn=\""
   ]
  },
  {
   "cell_type": "code",
   "execution_count": 3,
   "metadata": {},
   "outputs": [],
   "source": [
    "pageUrl = ebayUrl+str(5)\n",
    "r= requests.get(pageUrl)\n",
    "data=r.text\n",
    "soup=BeautifulSoup(data, 'lxml')"
   ]
  },
  {
   "cell_type": "code",
   "execution_count": 7,
   "metadata": {},
   "outputs": [],
   "source": [
    "listings = soup.find_all(class_=\"s-item s-item__pl-on-bottom\")"
   ]
  },
  {
   "cell_type": "code",
   "execution_count": 8,
   "metadata": {},
   "outputs": [],
   "source": [
    "#for each in listings:\n",
    "#    for line in each.find_all(\"li\"):\n",
    "#        print(line.find(class_='s-item__wrapper clearfix'))\n",
    "\n",
    "for each in listings:\n",
    "    print(each.find(class_='s-item__title'))"
   ]
  },
  {
   "cell_type": "code",
   "execution_count": 11,
   "metadata": {},
   "outputs": [],
   "source": [
    "for item in soup.select('.s-item__wrapper.clearfix'):\n",
    "    print(item)"
   ]
  },
  {
   "cell_type": "code",
   "execution_count": 13,
   "metadata": {},
   "outputs": [
    {
     "name": "stdout",
     "output_type": "stream",
     "text": [
      "[]\n"
     ]
    }
   ],
   "source": [
    "listings = soup.find_all('li', attrs={'class': 's-item'})\n",
    "print(listings)"
   ]
  },
  {
   "cell_type": "code",
   "execution_count": 14,
   "metadata": {},
   "outputs": [],
   "source": [
    "from lxml import html"
   ]
  },
  {
   "cell_type": "code",
   "execution_count": 15,
   "metadata": {},
   "outputs": [],
   "source": [
    "parser = html.fromstring(r.text)"
   ]
  },
  {
   "cell_type": "code",
   "execution_count": 16,
   "metadata": {},
   "outputs": [],
   "source": [
    "product_listings = parser.xpath('//li[contains(@id,\"results-listing\")]')\n",
    "raw_result_count = parser.xpath(\"//h1[contains(@class,'count-heading')]//text()\")"
   ]
  },
  {
   "cell_type": "code",
   "execution_count": 17,
   "metadata": {},
   "outputs": [
    {
     "data": {
      "text/plain": [
       "[]"
      ]
     },
     "execution_count": 17,
     "metadata": {},
     "output_type": "execute_result"
    }
   ],
   "source": [
    "raw_result_count"
   ]
  },
  {
   "cell_type": "code",
   "execution_count": 18,
   "metadata": {},
   "outputs": [
    {
     "data": {
      "text/plain": [
       "[]"
      ]
     },
     "execution_count": 18,
     "metadata": {},
     "output_type": "execute_result"
    }
   ],
   "source": [
    "product_listings"
   ]
  },
  {
   "cell_type": "code",
   "execution_count": 9,
   "metadata": {},
   "outputs": [
    {
     "name": "stdout",
     "output_type": "stream",
     "text": [
      "     Unnamed: 0                                         Item Title Item Price  \\\n",
      "0             0  ELEIKO SPORT WEIGHTLIFTING TRAINING DISC - BLA...    £180.00   \n",
      "1             1  10 / 2.5 / 1.25KG Weight Plates Set for Gym Ba...      £2.20   \n",
      "2             2  Premium Colour Bumper Plates | Steel insert | ...     £44.99   \n",
      "3             3  Olympic Rubber Weight Plate 10kg 15kg 20kg 25k...     £24.99   \n",
      "4             4                 Crane Weight plates bundle 8x 1 kg     £15.00   \n",
      "..          ...                                                ...        ...   \n",
      "177         172   2 x 20kg Olympic Weights. 2 Sets Of 2 Available.     £70.00   \n",
      "178         173  150KG 2\" Olympic Bumper Weight Plate Set - 5kg...    £280.00   \n",
      "179         174  10kg/20kg Dumbells Pair of Gym Weights Barbell...     £13.59   \n",
      "180         175  10KG x 2 Cast Iron Barbell 25mm Weight Plates ...     £45.00   \n",
      "181         176  2 x 10KG Cast Iron Barbell Dumbbell Weight Pla...     £45.00   \n",
      "\n",
      "     Unnamed: 0.1  \n",
      "0             NaN  \n",
      "1             NaN  \n",
      "2             NaN  \n",
      "3             NaN  \n",
      "4             NaN  \n",
      "..            ...  \n",
      "177         172.0  \n",
      "178         173.0  \n",
      "179         174.0  \n",
      "180         175.0  \n",
      "181         176.0  \n",
      "\n",
      "[182 rows x 4 columns]\n"
     ]
    }
   ],
   "source": [
    "print(pd.read_csv('~/code/non_finance/weightPlateDataTrial.csv'))"
   ]
  },
  {
   "cell_type": "code",
   "execution_count": 5,
   "metadata": {},
   "outputs": [],
   "source": [
    "adict = {\"Item Title\":[], \"Item Price\":[]}"
   ]
  },
  {
   "cell_type": "code",
   "execution_count": 7,
   "metadata": {},
   "outputs": [
    {
     "data": {
      "text/plain": [
       "{'Item Title': [], 'Item Price': []}"
      ]
     },
     "execution_count": 7,
     "metadata": {},
     "output_type": "execute_result"
    }
   ],
   "source": [
    "adict"
   ]
  },
  {
   "cell_type": "code",
   "execution_count": null,
   "metadata": {},
   "outputs": [],
   "source": []
  }
 ],
 "metadata": {
  "kernelspec": {
   "display_name": "Python 3.9.10 64-bit",
   "language": "python",
   "name": "python3"
  },
  "language_info": {
   "codemirror_mode": {
    "name": "ipython",
    "version": 3
   },
   "file_extension": ".py",
   "mimetype": "text/x-python",
   "name": "python",
   "nbconvert_exporter": "python",
   "pygments_lexer": "ipython3",
   "version": "3.9.10"
  },
  "orig_nbformat": 4,
  "vscode": {
   "interpreter": {
    "hash": "b0fa6594d8f4cbf19f97940f81e996739fb7646882a419484c72d19e05852a7e"
   }
  }
 },
 "nbformat": 4,
 "nbformat_minor": 2
}
