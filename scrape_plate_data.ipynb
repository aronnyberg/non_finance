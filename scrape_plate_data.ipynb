{
 "cells": [
  {
   "cell_type": "code",
   "execution_count": 21,
   "metadata": {},
   "outputs": [],
   "source": [
    "import json\n",
    "import pandas as pd\n",
    "import boto3\n",
    "from decimal import Decimal\n",
    "import requests\n",
    "from bs4 import BeautifulSoup\n",
    "import time\n",
    "import datetime\n",
    "from dateutil import parser\n",
    "\n",
    "dynamodb = boto3.resource('dynamodb', region_name='us-east-1')"
   ]
  },
  {
   "cell_type": "code",
   "execution_count": 24,
   "metadata": {},
   "outputs": [
    {
     "name": "stdout",
     "output_type": "stream",
     "text": [
      "None\n"
     ]
    }
   ],
   "source": [
    "\n",
    "#dict to hold the data in\n",
    "adict = {\"Item Title\":[], \"Item Price\":[], \"Unix Timestamp (collected)\":[], \"Sold Date\":[]}\n",
    "#ebay page url, for loop adds page number\n",
    "ebayUrl = \"https://www.ebay.co.uk/sch/i.html?_from=R40&_nkw=20kg+weight+plates&_in_kw=1&_ex_kw=&_sacat=0&LH_Sold=1&_udlo=&_udhi=&_samilow=&_samihi=&_sadis=15&_sargn=-1%26saslc%3D1&_fsradio2=%26LH_LocatedIn%3D1&_salic=3&LH_SubLocation=1&_sop=13&_dmd=1&_ipg=60&LH_Complete=&_pgn=\"\n",
    "\n",
    "#don't think i need to catch a failed url, as failed url means we've run out of pages\n",
    "n = 1\n",
    "pageUrl = ebayUrl+str(n)\n",
    "r= requests.get(pageUrl)\n",
    "data=r.text\n",
    "soup=BeautifulSoup(data, 'html.parser')\n",
    "# or maybe it's s-item__wrapper clearfix, or more direct s-item__info clearfix\n",
    "listings = soup.find_all(class_=\"s-item s-item__pl-on-bottom\")\n",
    "\n",
    "for each in listings:\n",
    "    # options are 's-item__title--tagblock', 's-item__title--tag', \n",
    "    each_date_span = each.find(class_='s-item__title--tagblock')\n",
    "    try:\n",
    "        each_date = parser.parse(each_date_span.next_element.next_element[5:]).isoformat()\n",
    "    except:\n",
    "        print(each_date_span)\n",
    "    # following checks if for each listing, if that listing is already in the database\n",
    "    #would be good to get a better way of seeing if each item has already been collected, this seems hacky\n",
    "    #assumes newer listings are at the start of the for loop\n",
    "    # matching the listing name doesn't work due to package(repeat) sellers, collect purchase id?\n",
    "    #although presumably not the same issue with used barbells"
   ]
  },
  {
   "cell_type": "code",
   "execution_count": 7,
   "metadata": {},
   "outputs": [
    {
     "data": {
      "text/plain": [
       "' 22 Nov 2022'"
      ]
     },
     "execution_count": 7,
     "metadata": {},
     "output_type": "execute_result"
    }
   ],
   "source": [
    "each_date_span.next_element.next_element[5:]"
   ]
  },
  {
   "cell_type": "code",
   "execution_count": 25,
   "metadata": {},
   "outputs": [
    {
     "data": {
      "text/plain": [
       "'2022-11-22T00:00:00'"
      ]
     },
     "execution_count": 25,
     "metadata": {},
     "output_type": "execute_result"
    }
   ],
   "source": [
    "each_date"
   ]
  },
  {
   "cell_type": "code",
   "execution_count": 20,
   "metadata": {},
   "outputs": [
    {
     "data": {
      "text/plain": [
       "'2022-11-22T00:00:00'"
      ]
     },
     "execution_count": 20,
     "metadata": {},
     "output_type": "execute_result"
    }
   ],
   "source": [
    "#datetime.datetime.strptime(each_date_span.next_element.next_element[5:], \"%d %m %Y\")\n",
    "\n",
    "parser.parse(each_date_span.next_element.next_element[5:]).isoformat()"
   ]
  },
  {
   "cell_type": "code",
   "execution_count": null,
   "metadata": {},
   "outputs": [],
   "source": []
  }
 ],
 "metadata": {
  "kernelspec": {
   "display_name": "Python 3.9.10 64-bit",
   "language": "python",
   "name": "python3"
  },
  "language_info": {
   "codemirror_mode": {
    "name": "ipython",
    "version": 3
   },
   "file_extension": ".py",
   "mimetype": "text/x-python",
   "name": "python",
   "nbconvert_exporter": "python",
   "pygments_lexer": "ipython3",
   "version": "3.9.10"
  },
  "orig_nbformat": 4,
  "vscode": {
   "interpreter": {
    "hash": "b0fa6594d8f4cbf19f97940f81e996739fb7646882a419484c72d19e05852a7e"
   }
  }
 },
 "nbformat": 4,
 "nbformat_minor": 2
}
