{
 "cells": [
  {
   "cell_type": "code",
   "execution_count": 1,
   "metadata": {},
   "outputs": [],
   "source": [
    "import json\n",
    "import pandas as pd\n",
    "import boto3\n",
    "from decimal import Decimal\n",
    "import requests\n",
    "from bs4 import BeautifulSoup\n",
    "import time\n",
    "import datetime\n",
    "from dateutil import parser\n",
    "\n",
    "dynamodb = boto3.resource('dynamodb', region_name='us-east-2')"
   ]
  },
  {
   "cell_type": "code",
   "execution_count": 2,
   "metadata": {},
   "outputs": [],
   "source": [
    "\n",
    "def pullDynamo():\n",
    "    #pull existing data from Dynamodb\n",
    "    table = dynamodb.Table('usedPlates')\n",
    "    response = table.scan()\n",
    "    df = pd.DataFrame(response['Items'])\n",
    "    return df, df.count()[0]\n"
   ]
  },
  {
   "cell_type": "code",
   "execution_count": 3,
   "metadata": {},
   "outputs": [],
   "source": [
    "def pullDynamo():\n",
    "    #pull existing data from Dynamodb\n",
    "    table = dynamodb.Table('usedPlates')\n",
    "    response = table.scan()\n",
    "    df = pd.DataFrame(response['Items'])\n",
    "    return df, df.count()[0]\n",
    "\n",
    "#just to count to see how many listing we're expecting\n",
    "\n",
    "def pullData():\n",
    "    # just for initial dynamo run\n",
    "    existingListingsN = 0\n",
    "    # pull old data\n",
    "    newListingsN = 0\n",
    "    #add something to make use of this, change in N due to process\n",
    "    #dict to hold the data in\n",
    "    adict = {\"Item Title\":[], \"Item Price\":[], \"Listings Collected Number\":[], \"Sold Date\":[]}\n",
    "    #ebay page url, for loop adds page number\n",
    "    ebayUrl = \"https://www.ebay.co.uk/sch/i.html?_from=R40&_nkw=20kg+weight+plates&_in_kw=1&_ex_kw=&_sacat=0&LH_Sold=1&_udlo=&_udhi=&LH_ItemCondition=4&_samilow=&_samihi=&_sadis=15&_stpos=BS313AX&_sargn=-1%26saslc%3D1&_fsradio2=%26LH_LocatedIn%3D1&_salic=3&LH_SubLocation=1&_sop=13&_dmd=1&_ipg=60&LH_Complete=3&_pgn=\"\n",
    "    \n",
    "    #don't think i need to catch a failed url, as failed url means we've run out of pages\n",
    "\n",
    "        #range can change to 1 or 2 when automatically pull\n",
    "    for n in range(1, 5):\n",
    "        pageUrl = ebayUrl+str(n)\n",
    "        r= requests.get(pageUrl)\n",
    "        data=r.text\n",
    "        soup=BeautifulSoup(data, 'html.parser')\n",
    "        listings = soup.find_all(class_=\"s-item s-item__pl-on-bottom\")\n",
    "\n",
    "        for each in listings:\n",
    "            each_title_span = each.find(class_='s-item__title')\n",
    "            each_title = each_title_span.next_element.next_element\n",
    "            # following checks if for each listing, if that listing is already in the database\n",
    "            #would be good to get a better way of seeing if each item has already been collected, this seems hacky\n",
    "            #assumes newer listings are at the start of the for loop\n",
    "            # matching the listing name doesn't work due to package(repeat) sellers, collect purchase id?\n",
    "            #although presumably not the same issue with used barbells\n",
    "\n",
    "            #change to if current listing is not equal to top of previous dataframe\n",
    "\n",
    "            each_price_span = each.find(class_='s-item__price')\n",
    "            each_price = each_price_span.next_element.next_element\n",
    "\n",
    "            each_date_span = each.find(class_='s-item__title--tagblock')\n",
    "            try:\n",
    "                each_date = parser.parse(each_date_span.next_element.next_element[5:]).isoformat()\n",
    "            except:\n",
    "                # sometimes returns a None object\n",
    "                pass\n",
    "\n",
    "            #specifying the £ sound to be the first character in item price ensures the html not accidentally picked up there.\n",
    "            # and we don't want to remove a price without removing the item, so best to exclude the item before it's added to our lists.\n",
    "            if str(each_price)[:1] == \"£\":\n",
    "                existingListingsN +=1\n",
    "                newListingsN += 1\n",
    "                adict['Item Title'].append(each_title)\n",
    "                adict['Item Price'].append(each_price)\n",
    "                adict['Listings Collected Number'].append(float(existingListingsN))\n",
    "                adict['Sold Date'].append(each_date)\n",
    "            else:\n",
    "                #not sure why I don't get data after some point on the 4th page tried re-writing, oh well\n",
    "                pass\n",
    "    \n",
    "    df = pd.DataFrame(adict)\n",
    "    df.sort_values(by=['Listings Collected Number'], ascending=False, inplace=True)\n",
    "    df['Listings Collected Number'] = range(len(df))\n",
    "    \n",
    "    if df.count()[0] > 0:\n",
    "        # returns df of new data to be added\n",
    "        print(\"expecting \"+str(newListingsN)+\" new listings to be added\")\n",
    "        return newListingsN, df\n",
    "    else:\n",
    "    # df should only list whatever it collected, ie whatever wasn't already in the csv\n",
    "        newListingsN = 0\n",
    "        return newListingsN\n",
    "\n",
    "    \n",
    "def dynamoDump():\n",
    "    #already called dynamo?\n",
    "    #dynamodb = boto3.resource('dynamodb')\n",
    "    pullDataOutput = pullData()\n",
    "    if type(pullDataOutput) == tuple:\n",
    "        newDF = pullDataOutput[1]\n",
    "        table = dynamodb.Table('usedPlates')\n",
    "        #would be better to declare this variable beforehand\n",
    "        # if newDF == None not working, so will try \n",
    "        if isinstance(newDF, pd.DataFrame):\n",
    "            #if newDF == None:\n",
    "            #    \n",
    "            #else:\n",
    "            if sum(newDF['Listings Collected Number']) > 0:\n",
    "                n2 = 0\n",
    "                print(\"working through here\")\n",
    "                print(newDF)\n",
    "                with table.batch_writer() as batch:\n",
    "                    for index, row in newDF.iterrows():\n",
    "                        n2 += 1\n",
    "                        batch.put_item(json.loads(row.to_json(), parse_float=Decimal))\n",
    "                    print(\"added \"+str(n2) + \" listing\")\n",
    "            else:\n",
    "                print(\"didn't get very far\")\n",
    "        else:\n",
    "            print(\"not even close\")"
   ]
  },
  {
   "cell_type": "code",
   "execution_count": 4,
   "metadata": {},
   "outputs": [
    {
     "name": "stdout",
     "output_type": "stream",
     "text": [
      "expecting 232 new listings to be added\n",
      "working through here\n",
      "                                            Item Title Item Price  \\\n",
      "0    Body Power 20Kg Deluxe Rubber/Chrome Olympic W...     £46.00   \n",
      "1    15kg York ISO-Grip Steel Composite Rubber Coat...     £15.00   \n",
      "2               2x Gold’s Gym 20kg 1 Inch weight plate      £0.99   \n",
      "3    Olympic Weight Plates Cast Iron Weights Tri Gr...     £25.00   \n",
      "4    *** *** 4x York Barbells with Vinyl Weights 4x...     £10.00   \n",
      "..                                                 ...        ...   \n",
      "227  2 x 20kg LHF Competition Olympic PU Bumper Wei...    £150.00   \n",
      "228                       olympic free weights 230 kg     £130.00   \n",
      "229  Body Power 2 x 20kg Black Cast Iron weight dis...     £42.00   \n",
      "230  180kg Olympic Weight Set - 7ft 20kg Barbell wi...    £440.00   \n",
      "231     Gold’s Gym 20kg 1 Inch weight plate (tri-grip)     £65.00   \n",
      "\n",
      "     Listings Collected Number            Sold Date  \n",
      "0                          1.0  2022-12-11T00:00:00  \n",
      "1                          2.0  2022-12-10T00:00:00  \n",
      "2                          3.0  2022-12-10T00:00:00  \n",
      "3                          4.0  2022-12-10T00:00:00  \n",
      "4                          5.0  2022-12-10T00:00:00  \n",
      "..                         ...                  ...  \n",
      "227                      228.0  2022-09-14T00:00:00  \n",
      "228                      229.0  2022-09-13T00:00:00  \n",
      "229                      230.0  2022-09-12T00:00:00  \n",
      "230                      231.0  2022-09-12T00:00:00  \n",
      "231                      232.0  2022-09-12T00:00:00  \n",
      "\n",
      "[232 rows x 4 columns]\n",
      "added 232 listing\n"
     ]
    }
   ],
   "source": [
    "dynamoDump()"
   ]
  },
  {
   "cell_type": "code",
   "execution_count": 5,
   "metadata": {},
   "outputs": [
    {
     "ename": "NameError",
     "evalue": "name 'newDF' is not defined",
     "output_type": "error",
     "traceback": [
      "\u001b[0;31m---------------------------------------------------------------------------\u001b[0m",
      "\u001b[0;31mNameError\u001b[0m                                 Traceback (most recent call last)",
      "Cell \u001b[0;32mIn [5], line 1\u001b[0m\n\u001b[0;32m----> 1\u001b[0m newDF\n",
      "\u001b[0;31mNameError\u001b[0m: name 'newDF' is not defined"
     ]
    }
   ],
   "source": [
    "\n",
    "#ClientError: An error occurred (ValidationException) when calling the BatchWriteItem operation: The provided key element does not match the schema"
   ]
  },
  {
   "cell_type": "code",
   "execution_count": 6,
   "metadata": {},
   "outputs": [],
   "source": [
    "table = dynamodb.Table('usedPlates')"
   ]
  },
  {
   "cell_type": "code",
   "execution_count": 8,
   "metadata": {},
   "outputs": [
    {
     "data": {
      "text/plain": [
       "2.0"
      ]
     },
     "execution_count": 8,
     "metadata": {},
     "output_type": "execute_result"
    }
   ],
   "source": [
    "float(2)"
   ]
  },
  {
   "cell_type": "code",
   "execution_count": 13,
   "metadata": {},
   "outputs": [
    {
     "data": {
      "text/plain": [
       "1669585871.766944"
      ]
     },
     "execution_count": 13,
     "metadata": {},
     "output_type": "execute_result"
    }
   ],
   "source": [
    "time.time()"
   ]
  },
  {
   "cell_type": "code",
   "execution_count": null,
   "metadata": {},
   "outputs": [],
   "source": []
  }
 ],
 "metadata": {
  "kernelspec": {
   "display_name": "Python 3.9.10 64-bit",
   "language": "python",
   "name": "python3"
  },
  "language_info": {
   "codemirror_mode": {
    "name": "ipython",
    "version": 3
   },
   "file_extension": ".py",
   "mimetype": "text/x-python",
   "name": "python",
   "nbconvert_exporter": "python",
   "pygments_lexer": "ipython3",
   "version": "3.9.10"
  },
  "orig_nbformat": 4,
  "vscode": {
   "interpreter": {
    "hash": "b0fa6594d8f4cbf19f97940f81e996739fb7646882a419484c72d19e05852a7e"
   }
  }
 },
 "nbformat": 4,
 "nbformat_minor": 2
}
